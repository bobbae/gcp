{
 "cells": [
  {
   "cell_type": "code",
   "execution_count": 1,
   "metadata": {},
   "outputs": [],
   "source": [
    "import pandas as pd\n",
    "#import seaborn as sns\n",
    "import matplotlib.pyplot as plt\n",
    "#sns.set(style=\"darkgrid\")"
   ]
  },
  {
   "cell_type": "code",
   "execution_count": 2,
   "metadata": {},
   "outputs": [
    {
     "data": {
      "text/plain": [
       "25500"
      ]
     },
     "execution_count": 2,
     "metadata": {},
     "output_type": "execute_result"
    }
   ],
   "source": [
    "df= pd.read_csv('data.csv')\n",
    "len(df)"
   ]
  },
  {
   "cell_type": "code",
   "execution_count": 3,
   "metadata": {},
   "outputs": [],
   "source": [
    "df.columns = ['year', 'rank', 'company', 'revenue', 'profit']"
   ]
  },
  {
   "cell_type": "code",
   "execution_count": 4,
   "metadata": {},
   "outputs": [
    {
     "data": {
      "text/plain": [
       "year         int64\n",
       "rank         int64\n",
       "company     object\n",
       "revenue    float64\n",
       "profit      object\n",
       "dtype: object"
      ]
     },
     "execution_count": 4,
     "metadata": {},
     "output_type": "execute_result"
    }
   ],
   "source": [
    "df.dtypes"
   ]
  },
  {
   "cell_type": "code",
   "execution_count": 5,
   "metadata": {},
   "outputs": [
    {
     "name": "stdout",
     "output_type": "stream",
     "text": [
      "0    False\n",
      "1    False\n",
      "2    False\n",
      "3    False\n",
      "4    False\n",
      "Name: profit, dtype: bool\n",
      "     year  rank                company  revenue profit\n",
      "228  1955   229                 Norton    135.0   N.A.\n",
      "290  1955   291        Schlitz Brewing    100.0   N.A.\n",
      "294  1955   295  Pacific Vegetable Oil     97.9   N.A.\n",
      "296  1955   297     Liebmann Breweries     96.0   N.A.\n",
      "352  1955   353     Minneapolis-Moline     77.4   N.A.\n",
      "369\n"
     ]
    }
   ],
   "source": [
    "non_numeric_profits = df.profit.str.contains('[^0-9.-]')\n",
    "print(non_numeric_profits.head())\n",
    "print(df.loc[non_numeric_profits].head())\n",
    "print(len(df.loc[non_numeric_profits]))"
   ]
  },
  {
   "cell_type": "code",
   "execution_count": 6,
   "metadata": {},
   "outputs": [
    {
     "data": {
      "text/plain": [
       "{'N.A.'}"
      ]
     },
     "execution_count": 6,
     "metadata": {},
     "output_type": "execute_result"
    }
   ],
   "source": [
    "set(df.profit[non_numeric_profits])"
   ]
  },
  {
   "cell_type": "code",
   "execution_count": 7,
   "metadata": {},
   "outputs": [
    {
     "name": "stdout",
     "output_type": "stream",
     "text": [
      "25131\n"
     ]
    },
    {
     "data": {
      "text/plain": [
       "year         int64\n",
       "rank         int64\n",
       "company     object\n",
       "revenue    float64\n",
       "profit     float64\n",
       "dtype: object"
      ]
     },
     "execution_count": 7,
     "metadata": {},
     "output_type": "execute_result"
    }
   ],
   "source": [
    "df = df.loc[~non_numeric_profits]\n",
    "print(len(df))\n",
    "df.profit = df.profit.apply(pd.to_numeric)\n",
    "df.dtypes"
   ]
  },
  {
   "cell_type": "code",
   "execution_count": 16,
   "metadata": {},
   "outputs": [
    {
     "name": "stdout",
     "output_type": "stream",
     "text": [
      "       year  rank                 company   revenue   profit\n",
      "25001  2005     2             Exxon Mobil  270772.0  25330.0\n",
      "22001  1999     2              Ford Motor  144416.0  22071.0\n",
      "24501  2004     2             Exxon Mobil  213199.0  21510.0\n",
      "24507  2004     8               Citigroup   94713.0  17853.0\n",
      "23000  2001     1             Exxon Mobil  210392.0  17720.0\n",
      "25007  2005     8               Citigroup  108276.0  17046.0\n",
      "25004  2005     5        General Electric  152363.0  16593.0\n",
      "23501  2002     2             Exxon Mobil  191581.0  15320.0\n",
      "24005  2003     6               Citigroup  100789.0  15276.0\n",
      "24504  2004     5        General Electric  134187.0  15002.0\n",
      "25017  2005    18   Bank of America Corp.   63324.0  14143.0\n",
      "23506  2002     7               Citigroup  112022.0  14126.0\n",
      "24004  2003     5        General Electric  131698.0  14118.0\n",
      "23505  2002     6        General Electric  125913.0  13684.0\n",
      "23005  2001     6               Citigroup  111826.0  13519.0\n",
      "25005  2005     6           ChevronTexaco  147967.0  13328.0\n",
      "23004  2001     5        General Electric  129853.0  12735.0\n",
      "23009  2001    10  Verizon Communications   64707.0  11797.0\n",
      "24002  2003     3             Exxon Mobil  182466.0  11460.0\n",
      "25023  2005    24                  Pfizer   52921.0  11361.0\n"
     ]
    }
   ],
   "source": [
    "with pd.option_context('display.max_rows', None, 'display.max_columns',None):\n",
    "    print(df.sort_values(by='profit', ascending=False)[:20])"
   ]
  },
  {
   "cell_type": "code",
   "execution_count": 61,
   "metadata": {},
   "outputs": [
    {
     "name": "stdout",
     "output_type": "stream",
     "text": [
      "unique companies  1860\n",
      "most repeated  [('CBS', 57), ('OfficeMax', 55), ('General Motors', 51), ('Exxon Mobil', 51), ('General Electric', 51), ('DuPont', 51), ('ChevronTexaco', 51), ('Goodyear Tire & Rubber', 51), ('Boeing', 51), ('Navistar International', 51)]\n",
      "unique and unrepeated  182\n"
     ]
    }
   ],
   "source": [
    "counts = {}\n",
    "\n",
    "for d in df.to_dict('records'):\n",
    "    company = d['company']\n",
    "    if company not in counts:\n",
    "        counts[company] = 0\n",
    "    counts[company] += 1\n",
    "print('unique companies ',len(counts))\n",
    "from collections import OrderedDict\n",
    "cc = OrderedDict(sorted(counts.items(), key=lambda x: -x[1]))\n",
    "ccc = list(cc.items())\n",
    "print('most repeated ',ccc[:10])\n",
    "uu = OrderedDict(sorted(counts.items(), key=lambda x: x[1]))\n",
    "uuu = filter(lambda x: x[1]==1, list(uu.items()))\n",
    "print('unique and unrepeated ',len(list(uuu)))"
   ]
  },
  {
   "cell_type": "code",
   "execution_count": 9,
   "metadata": {},
   "outputs": [],
   "source": [
    "jdf = df.to_json(orient='records')\n",
    "with open('dataoutput.json','w') as jsonfp:\n",
    "    jsonfp.write(jdf)"
   ]
  },
  {
   "cell_type": "code",
   "execution_count": 10,
   "metadata": {},
   "outputs": [
    {
     "name": "stdout",
     "output_type": "stream",
     "text": [
      "None\n"
     ]
    }
   ],
   "source": [
    "ddf = df.to_dict('records')\n",
    "import json\n",
    "with open('dataoutput2.json','w') as jf2:\n",
    "     print(json.dump(ddf, jf2, indent=4))"
   ]
  },
  {
   "cell_type": "code",
   "execution_count": 11,
   "metadata": {},
   "outputs": [],
   "source": [
    "group_by_year = df.loc[:, ['year', 'revenue', 'profit']].groupby('year')\n",
    "avgs = group_by_year.mean()\n",
    "x = avgs.index\n",
    "y1 = avgs.profit\n",
    "\n",
    "def plot(x, y, ax, title, y_label):\n",
    "    ax.set_title(title)\n",
    "    ax.set_ylabel(y_label)\n",
    "    ax.plot(x, y)\n",
    "    ax.margins(x=0, y=0)"
   ]
  },
  {
   "cell_type": "code",
   "execution_count": 12,
   "metadata": {},
   "outputs": [
    {
     "data": {
      "image/png": "[encoded data removed]",
      "text/plain": [
       "<Figure size 432x288 with 1 Axes>"
      ]
     },
     "metadata": {
      "needs_background": "light"
     },
     "output_type": "display_data"
    }
   ],
   "source": [
    "fig, ax = plt.subplots()\n",
    "plot(x, y1, ax, 'Increase in mean Fortune 500 company profits from 1955 to 2005', 'Profit (millions)')"
   ]
  }
 ],
 "metadata": {
  "kernelspec": {
   "display_name": "Python 3",
   "language": "python",
   "name": "python3"
  },
  "language_info": {
   "codemirror_mode": {
    "name": "ipython",
    "version": 3
   },
   "file_extension": ".py",
   "mimetype": "text/x-python",
   "name": "python",
   "nbconvert_exporter": "python",
   "pygments_lexer": "ipython3",
   "version": "3.7.7"
  }
 },
 "nbformat": 4,
 "nbformat_minor": 4
}
